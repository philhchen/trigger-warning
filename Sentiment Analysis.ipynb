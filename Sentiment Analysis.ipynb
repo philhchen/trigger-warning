{
 "cells": [
  {
   "cell_type": "code",
   "execution_count": 1,
   "metadata": {},
   "outputs": [
    {
     "name": "stderr",
     "output_type": "stream",
     "text": [
      "Using TensorFlow backend.\n"
     ]
    }
   ],
   "source": [
    "from keras.preprocessing.text import Tokenizer\n",
    "from keras.preprocessing.sequence import pad_sequences\n",
    "from keras.layers import Embedding\n",
    "import numpy as np\n",
    "import os\n",
    "import json\n",
    "\n",
    "MAX_WORDS = 1000000\n",
    "MAX_SEQUENCE_LENGTH = 20\n",
    "TEST_SPLIT = 0.4\n",
    "EMBEDDING_DIM = 50\n",
    "MODEL_DIR = '/Users/Phil/Documents/Treehacks/'\n",
    "GLOVE_DIR = '/Users/Phil/Downloads/glove'"
   ]
  },
  {
   "cell_type": "code",
   "execution_count": 12,
   "metadata": {},
   "outputs": [],
   "source": [
    "tokenizer = Tokenizer(num_words=MAX_WORDS)\n",
    "\n",
    "def preprocessing(filename, isJson=True):\n",
    "    # Preprocess data into train and test tensors\n",
    "    # Get text/scores into list of list of str and list of int\n",
    "    # Returns (x_train, y_train, x_val, y_val, x_test, y_test, embeddings)\n",
    "    \n",
    "    # Read from file into text and scores variables\n",
    "    f = open(filename)\n",
    "    text = []\n",
    "    scores = []\n",
    "    if isJson:\n",
    "        d = json.load(f)\n",
    "        for idnum in d:\n",
    "            scores.append(d[idnum]['mean_sentiment'])\n",
    "            text.append(d[idnum]['text'].split())\n",
    "    else:\n",
    "        for line in f:\n",
    "            values = line.split()\n",
    "            words = line.split()\n",
    "            scores.append(int(words[0]))\n",
    "            text.append(words[1:])\n",
    "    scores = np.asarray(scores)\n",
    "    scores = (1+scores)/2\n",
    "\n",
    "    # Use tokenizer to pad sequences and split into train, val, test\n",
    "    tokenizer.fit_on_texts(text)\n",
    "    sequences = tokenizer.texts_to_sequences(text)\n",
    "\n",
    "    word_index = tokenizer.word_index\n",
    "    print('Found %s unique tokens.' % len(word_index))\n",
    "\n",
    "    data = pad_sequences(sequences, maxlen=MAX_SEQUENCE_LENGTH)\n",
    "    print('Shape of data tensor:', data.shape)\n",
    "    print('Shape of scores tensor:', scores.shape)\n",
    "\n",
    "    indices = np.arange(data.shape[0])\n",
    "    np.random.shuffle(indices)\n",
    "    data = data[indices]\n",
    "    scores = scores[indices]\n",
    "    nb_test_samples = int(TEST_SPLIT * data.shape[0])\n",
    "\n",
    "    x_train = data[:-nb_test_samples]\n",
    "    y_train = scores[:-nb_test_samples]\n",
    "    x_test = data[-nb_test_samples:]\n",
    "    y_test = scores[-nb_test_samples:]\n",
    "\n",
    "    # Prepare embedding matrix from glove twitter\n",
    "    embeddings_index = {}\n",
    "    f = open(os.path.join(GLOVE_DIR, 'glove.twitter.27B.50d.txt'))\n",
    "    for line in f:\n",
    "        values = line.split()\n",
    "        word = values[0]\n",
    "        coefs = np.asarray(values[1:], dtype='float32')\n",
    "        embeddings_index[word] = coefs\n",
    "    f.close()\n",
    "\n",
    "    print('Found %s word vectors.' % len(embeddings_index))\n",
    "\n",
    "    embedding_matrix = np.zeros((len(word_index) + 1, EMBEDDING_DIM))\n",
    "    for word, i in word_index.items():\n",
    "        embedding_vector = embeddings_index.get(word)\n",
    "        if embedding_vector is not None:\n",
    "            embedding_matrix[i] = embedding_vector\n",
    "\n",
    "    embedding_layer = Embedding(len(word_index) + 1, EMBEDDING_DIM, weights=[embedding_matrix], input_length=MAX_SEQUENCE_LENGTH, trainable=False)\n",
    "\n",
    "    return (x_train, y_train, x_test, y_test, embedding_layer)"
   ]
  },
  {
   "cell_type": "code",
   "execution_count": 68,
   "metadata": {
    "scrolled": false
   },
   "outputs": [
    {
     "name": "stdout",
     "output_type": "stream",
     "text": [
      "Found 168979 unique tokens.\n",
      "Shape of data tensor: (47936, 20)\n",
      "Shape of scores tensor: (47936,)\n",
      "Found 1193514 word vectors.\n"
     ]
    }
   ],
   "source": [
    "filename = os.path.join(MODEL_DIR, 'data.json')\n",
    "x_train, y_train, x_test, y_test, embedding_layer = preprocessing(filename)\n",
    "with open('tokenizer.json','w') as f:\n",
    "    json.dump(tokenizer.word_index, f)"
   ]
  },
  {
   "cell_type": "code",
   "execution_count": 65,
   "metadata": {
    "scrolled": true
   },
   "outputs": [
    {
     "name": "stdout",
     "output_type": "stream",
     "text": [
      "__________________________________________________________________________________________________\n",
      "Layer (type)                    Output Shape         Param #     Connected to                     \n",
      "==================================================================================================\n",
      "input_13 (InputLayer)           (None, 20)           0                                            \n",
      "__________________________________________________________________________________________________\n",
      "embedding_2 (Embedding)         (None, 20, 50)       8449000     input_13[0][0]                   \n",
      "__________________________________________________________________________________________________\n",
      "conv1d_29 (Conv1D)              (None, 19, 32)       3232        embedding_2[19][0]               \n",
      "__________________________________________________________________________________________________\n",
      "conv1d_30 (Conv1D)              (None, 18, 32)       4832        embedding_2[19][0]               \n",
      "__________________________________________________________________________________________________\n",
      "conv1d_31 (Conv1D)              (None, 17, 32)       6432        embedding_2[19][0]               \n",
      "__________________________________________________________________________________________________\n",
      "global_max_pooling1d_25 (Global (None, 32)           0           conv1d_29[0][0]                  \n",
      "__________________________________________________________________________________________________\n",
      "global_max_pooling1d_26 (Global (None, 32)           0           conv1d_30[0][0]                  \n",
      "__________________________________________________________________________________________________\n",
      "global_max_pooling1d_27 (Global (None, 32)           0           conv1d_31[0][0]                  \n",
      "__________________________________________________________________________________________________\n",
      "bidirectional_9 (Bidirectional) (None, 64)           21248       embedding_2[19][0]               \n",
      "__________________________________________________________________________________________________\n",
      "concatenate_8 (Concatenate)     (None, 160)          0           global_max_pooling1d_25[0][0]    \n",
      "                                                                 global_max_pooling1d_26[0][0]    \n",
      "                                                                 global_max_pooling1d_27[0][0]    \n",
      "                                                                 bidirectional_9[0][0]            \n",
      "__________________________________________________________________________________________________\n",
      "dense_32 (Dense)                (None, 32)           5152        concatenate_8[0][0]              \n",
      "__________________________________________________________________________________________________\n",
      "dropout_9 (Dropout)             (None, 32)           0           dense_32[0][0]                   \n",
      "__________________________________________________________________________________________________\n",
      "dense_33 (Dense)                (None, 1)            33          dropout_9[0][0]                  \n",
      "==================================================================================================\n",
      "Total params: 8,489,929\n",
      "Trainable params: 40,929\n",
      "Non-trainable params: 8,449,000\n",
      "__________________________________________________________________________________________________\n"
     ]
    }
   ],
   "source": [
    "from keras.models import Model\n",
    "from keras.layers import Input, Dense, LSTM, Bidirectional, Dropout\n",
    "from keras.layers import GlobalMaxPooling1D, Conv1D, concatenate\n",
    "\n",
    "def buildModel(model_type='CNN', dropout=0.2):\n",
    "    tweet_input = Input(shape=(MAX_SEQUENCE_LENGTH,), dtype='int32')\n",
    "    embedded = embedding_layer(tweet_input)\n",
    "    if model_type == 'CNN' or model_type == 'combined':\n",
    "        bigram_branch = Conv1D(filters=32, kernel_size=2, activation='relu')(embedded)\n",
    "        bigram_branch = GlobalMaxPooling1D()(bigram_branch)\n",
    "        trigram_branch = Conv1D(filters=32, kernel_size=3, activation='relu')(embedded)\n",
    "        trigram_branch = GlobalMaxPooling1D()(trigram_branch)\n",
    "        fourgram_branch = Conv1D(filters=32, kernel_size=4, activation='relu')(embedded)\n",
    "        fourgram_branch = GlobalMaxPooling1D()(fourgram_branch)\n",
    "        if model_type == 'CNN':\n",
    "            merged = concatenate([bigram_branch, trigram_branch, fourgram_branch], axis=1)\n",
    "        else:\n",
    "            lstm = Bidirectional(LSTM(32, activation='relu'))(embedded)\n",
    "            merged = concatenate([bigram_branch, trigram_branch, fourgram_branch, lstm], axis=1)\n",
    "    elif model_type == 'RNN':\n",
    "        merged = Bidirectional(LSTM(64, activation='relu'))(embedded)\n",
    "        \n",
    "    hidden = Dense(32, activation='relu')(merged)\n",
    "    hidden = Dropout(dropout)(hidden)\n",
    "    output = Dense(1, activation='relu')(hidden)\n",
    "    model = Model(inputs=[tweet_input], outputs=[output])\n",
    "    model.summary()\n",
    "    return model\n",
    "\n",
    "model = buildModel(model_type='combined')\n",
    "model.compile(optimizer='rmsprop', loss='binary_crossentropy', metrics=['mae'])"
   ]
  },
  {
   "cell_type": "code",
   "execution_count": 66,
   "metadata": {
    "collapsed": true
   },
   "outputs": [
    {
     "name": "stdout",
     "output_type": "stream",
     "text": [
      "Train on 23009 samples, validate on 5753 samples\n",
      "Epoch 1/10\n",
      "23009/23009 [==============================] - 16s 707us/step - loss: 1.5654 - mean_absolute_error: 0.2308 - val_loss: 0.7043 - val_mean_absolute_error: 0.1413\n",
      "Epoch 2/10\n",
      "23009/23009 [==============================] - 14s 611us/step - loss: 0.6952 - mean_absolute_error: 0.1267 - val_loss: 0.6912 - val_mean_absolute_error: 0.1212\n",
      "Epoch 3/10\n",
      "23009/23009 [==============================] - 14s 607us/step - loss: 0.6901 - mean_absolute_error: 0.1181 - val_loss: 0.6924 - val_mean_absolute_error: 0.1230\n",
      "Epoch 4/10\n",
      "23009/23009 [==============================] - 14s 603us/step - loss: 0.6865 - mean_absolute_error: 0.1146 - val_loss: 0.6924 - val_mean_absolute_error: 0.1233\n",
      "Epoch 5/10\n",
      "23009/23009 [==============================] - 14s 603us/step - loss: 0.6857 - mean_absolute_error: 0.1132 - val_loss: 0.6913 - val_mean_absolute_error: 0.1202\n",
      "Epoch 6/10\n",
      "23009/23009 [==============================] - 14s 621us/step - loss: 0.6854 - mean_absolute_error: 0.1115 - val_loss: 0.6908 - val_mean_absolute_error: 0.1187\n",
      "Epoch 7/10\n",
      "23009/23009 [==============================] - 14s 597us/step - loss: 0.6827 - mean_absolute_error: 0.1097 - val_loss: 0.7183 - val_mean_absolute_error: 0.1503\n",
      "Epoch 8/10\n",
      "23009/23009 [==============================] - 14s 611us/step - loss: 0.6809 - mean_absolute_error: 0.1081 - val_loss: 0.6938 - val_mean_absolute_error: 0.1227\n",
      "Epoch 9/10\n",
      "23009/23009 [==============================] - 14s 609us/step - loss: 0.6815 - mean_absolute_error: 0.1066 - val_loss: 0.7100 - val_mean_absolute_error: 0.1255\n",
      "Epoch 10/10\n",
      "23009/23009 [==============================] - 15s 650us/step - loss: 0.6775 - mean_absolute_error: 0.1043 - val_loss: 0.7058 - val_mean_absolute_error: 0.1359\n"
     ]
    }
   ],
   "source": [
    "import tensorflowjs as tfjs\n",
    "history = model.fit(x_train, y_train, epochs=5, batch_size=32, validation_split=0.2)\n",
    "tfjs.converters.save_keras_model(model, MODEL_DIR)\n",
    "model.save('model.h5')"
   ]
  },
  {
   "cell_type": "code",
   "execution_count": 47,
   "metadata": {},
   "outputs": [
    {
     "name": "stdout",
     "output_type": "stream",
     "text": [
      "Mean absolute error: 0.12492216638988875\n"
     ]
    }
   ],
   "source": [
    "model.load_weights(os.path.join(MODEL_DIR, 'model.h5'))\n",
    "prediction = model.predict(x_test)\n",
    "print('Mean absolute error:', np.mean(np.abs(prediction - y_test)))"
   ]
  },
  {
   "cell_type": "code",
   "execution_count": 77,
   "metadata": {},
   "outputs": [
    {
     "name": "stdout",
     "output_type": "stream",
     "text": [
      "[[0.48636833]\n",
      " [0.5103887 ]]\n"
     ]
    }
   ],
   "source": [
    "test = ['fucking kavanaugh and brexit what is wrong with these brits', 'what about some positivity hereee']\n",
    "sequences = tokenizer.texts_to_sequences(test)\n",
    "data = pad_sequences(sequences, maxlen=MAX_SEQUENCE_LENGTH)\n",
    "prediction = model.predict(data)\n",
    "print(prediction)"
   ]
  },
  {
   "cell_type": "code",
   "execution_count": null,
   "metadata": {},
   "outputs": [],
   "source": []
  }
 ],
 "metadata": {
  "kernelspec": {
   "display_name": "Python (treehacks)",
   "language": "python",
   "name": "treehacks"
  },
  "language_info": {
   "codemirror_mode": {
    "name": "ipython",
    "version": 3
   },
   "file_extension": ".py",
   "mimetype": "text/x-python",
   "name": "python",
   "nbconvert_exporter": "python",
   "pygments_lexer": "ipython3",
   "version": "3.6.8"
  }
 },
 "nbformat": 4,
 "nbformat_minor": 2
}
