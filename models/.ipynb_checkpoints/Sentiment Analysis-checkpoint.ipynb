{
 "cells": [
  {
   "cell_type": "code",
   "execution_count": 1,
   "metadata": {},
   "outputs": [
    {
     "name": "stderr",
     "output_type": "stream",
     "text": [
      "Using TensorFlow backend.\n"
     ]
    }
   ],
   "source": [
    "from keras.preprocessing.text import Tokenizer\n",
    "from keras.preprocessing.sequence import pad_sequences\n",
    "from keras.layers import Embedding\n",
    "import numpy as np\n",
    "import os\n",
    "import json\n",
    "\n",
    "MAX_WORDS = 1000000\n",
    "MAX_SEQUENCE_LENGTH = 20\n",
    "TEST_SPLIT = 0.4\n",
    "EMBEDDING_DIM = 50\n",
    "MODEL_DIR = '/Users/Phil/Documents/trigger-warning/'\n",
    "GLOVE_DIR = '/Users/Phil/Downloads/glove'"
   ]
  },
  {
   "cell_type": "code",
   "execution_count": 2,
   "metadata": {},
   "outputs": [],
   "source": [
    "tokenizer = Tokenizer(num_words=MAX_WORDS)\n",
    "\n",
    "def preprocessing(filename, isJson=True):\n",
    "    # Preprocess data into train and test tensors\n",
    "    # Get text/scores into list of list of str and list of int\n",
    "    # Returns (x_train, y_train, x_val, y_val, x_test, y_test, embeddings)\n",
    "    \n",
    "    # Read from file into text and scores variables\n",
    "    f = open(filename)\n",
    "    text = []\n",
    "    scores = []\n",
    "    if isJson:\n",
    "        d = json.load(f)\n",
    "        for idnum in d:\n",
    "            scores.append(d[idnum]['mean_sentiment'])\n",
    "            text.append(d[idnum]['text'].split())\n",
    "    else:\n",
    "        for line in f:\n",
    "            values = line.split()\n",
    "            words = line.split()\n",
    "            scores.append(int(words[0]))\n",
    "            text.append(words[1:])\n",
    "    scores = np.asarray(scores)\n",
    "\n",
    "    # Use tokenizer to pad sequences and split into train, val, test\n",
    "    tokenizer.fit_on_texts(text)\n",
    "    sequences = tokenizer.texts_to_sequences(text)\n",
    "\n",
    "    word_index = tokenizer.word_index\n",
    "    print('Found %s unique tokens.' % len(word_index))\n",
    "\n",
    "    data = pad_sequences(sequences, maxlen=MAX_SEQUENCE_LENGTH)\n",
    "    print('Shape of data tensor:', data.shape)\n",
    "    print('Shape of scores tensor:', scores.shape)\n",
    "\n",
    "    indices = np.arange(data.shape[0])\n",
    "    np.random.shuffle(indices)\n",
    "    data = data[indices]\n",
    "    scores = scores[indices]\n",
    "    nb_test_samples = int(TEST_SPLIT * data.shape[0])\n",
    "\n",
    "    x_train = data[:-nb_test_samples]\n",
    "    y_train = scores[:-nb_test_samples]\n",
    "    x_test = data[-nb_test_samples:]\n",
    "    y_test = scores[-nb_test_samples:]\n",
    "\n",
    "    # Prepare embedding matrix from glove twitter\n",
    "    embeddings_index = {}\n",
    "    f = open(os.path.join(GLOVE_DIR, 'glove.twitter.27B.50d.txt'))\n",
    "    for line in f:\n",
    "        values = line.split()\n",
    "        word = values[0]\n",
    "        coefs = np.asarray(values[1:], dtype='float32')\n",
    "        embeddings_index[word] = coefs\n",
    "    f.close()\n",
    "\n",
    "    print('Found %s word vectors.' % len(embeddings_index))\n",
    "\n",
    "    embedding_matrix = np.zeros((len(word_index) + 1, EMBEDDING_DIM))\n",
    "    for word, i in word_index.items():\n",
    "        embedding_vector = embeddings_index.get(word)\n",
    "        if embedding_vector is not None:\n",
    "            embedding_matrix[i] = embedding_vector\n",
    "\n",
    "    embedding_layer = Embedding(len(word_index) + 1, EMBEDDING_DIM, weights=[embedding_matrix], input_length=MAX_SEQUENCE_LENGTH, trainable=False)\n",
    "\n",
    "    return (x_train, y_train, x_test, y_test, embedding_layer)"
   ]
  },
  {
   "cell_type": "code",
   "execution_count": 3,
   "metadata": {
    "scrolled": false
   },
   "outputs": [
    {
     "name": "stdout",
     "output_type": "stream",
     "text": [
      "Found 329305 unique tokens.\n",
      "Shape of data tensor: (113510, 20)\n",
      "Shape of scores tensor: (113510,)\n",
      "Found 1193514 word vectors.\n"
     ]
    }
   ],
   "source": [
    "filename = os.path.join(MODEL_DIR, 'data/combined_sentiments.json')\n",
    "x_train, y_train, x_test, y_test, embedding_layer = preprocessing(filename)\n",
    "with open(os.path.join(MODEL_DIR, 'models/tokenizer.json'),'w') as f:\n",
    "    json.dump(tokenizer.word_index, f)"
   ]
  },
  {
   "cell_type": "code",
   "execution_count": 5,
   "metadata": {
    "scrolled": true
   },
   "outputs": [
    {
     "name": "stdout",
     "output_type": "stream",
     "text": [
      "__________________________________________________________________________________________________\n",
      "Layer (type)                    Output Shape         Param #     Connected to                     \n",
      "==================================================================================================\n",
      "input_2 (InputLayer)            (None, 20)           0                                            \n",
      "__________________________________________________________________________________________________\n",
      "embedding_1 (Embedding)         (None, 20, 50)       16465300    input_2[0][0]                    \n",
      "__________________________________________________________________________________________________\n",
      "conv1d_4 (Conv1D)               (None, 19, 32)       3200        embedding_1[1][0]                \n",
      "__________________________________________________________________________________________________\n",
      "conv1d_5 (Conv1D)               (None, 18, 32)       4800        embedding_1[1][0]                \n",
      "__________________________________________________________________________________________________\n",
      "conv1d_6 (Conv1D)               (None, 17, 32)       6400        embedding_1[1][0]                \n",
      "__________________________________________________________________________________________________\n",
      "global_max_pooling1d_4 (GlobalM (None, 32)           0           conv1d_4[0][0]                   \n",
      "__________________________________________________________________________________________________\n",
      "global_max_pooling1d_5 (GlobalM (None, 32)           0           conv1d_5[0][0]                   \n",
      "__________________________________________________________________________________________________\n",
      "global_max_pooling1d_6 (GlobalM (None, 32)           0           conv1d_6[0][0]                   \n",
      "__________________________________________________________________________________________________\n",
      "bidirectional_2 (Bidirectional) (None, 64)           21248       embedding_1[1][0]                \n",
      "__________________________________________________________________________________________________\n",
      "concatenate_2 (Concatenate)     (None, 160)          0           global_max_pooling1d_4[0][0]     \n",
      "                                                                 global_max_pooling1d_5[0][0]     \n",
      "                                                                 global_max_pooling1d_6[0][0]     \n",
      "                                                                 bidirectional_2[0][0]            \n",
      "__________________________________________________________________________________________________\n",
      "dense_3 (Dense)                 (None, 32)           5152        concatenate_2[0][0]              \n",
      "__________________________________________________________________________________________________\n",
      "dropout_2 (Dropout)             (None, 32)           0           dense_3[0][0]                    \n",
      "__________________________________________________________________________________________________\n",
      "dense_4 (Dense)                 (None, 1)            33          dropout_2[0][0]                  \n",
      "==================================================================================================\n",
      "Total params: 16,506,133\n",
      "Trainable params: 40,833\n",
      "Non-trainable params: 16,465,300\n",
      "__________________________________________________________________________________________________\n"
     ]
    }
   ],
   "source": [
    "from keras.models import Model\n",
    "from keras.layers import Input, Dense, LSTM, Bidirectional, Dropout\n",
    "from keras.layers import GlobalMaxPooling1D, Conv1D, concatenate\n",
    "\n",
    "def buildModel(model_type='CNN', dropout=0.2):\n",
    "    tweet_input = Input(shape=(MAX_SEQUENCE_LENGTH,), dtype='int32')\n",
    "    embedded = embedding_layer(tweet_input)\n",
    "    if model_type == 'CNN' or model_type == 'combined':\n",
    "        bigram_branch = Conv1D(filters=32, kernel_size=2, activation='relu', use_bias=False)(embedded)\n",
    "        bigram_branch = GlobalMaxPooling1D()(bigram_branch)\n",
    "        trigram_branch = Conv1D(filters=32, kernel_size=3, activation='relu', use_bias=False)(embedded)\n",
    "        trigram_branch = GlobalMaxPooling1D()(trigram_branch)\n",
    "        fourgram_branch = Conv1D(filters=32, kernel_size=4, activation='relu', use_bias=False)(embedded)\n",
    "        fourgram_branch = GlobalMaxPooling1D()(fourgram_branch)\n",
    "        if model_type == 'CNN':\n",
    "            merged = concatenate([bigram_branch, trigram_branch, fourgram_branch], axis=1)\n",
    "        else:\n",
    "            lstm = Bidirectional(LSTM(32, activation='relu'))(embedded)\n",
    "            merged = concatenate([bigram_branch, trigram_branch, fourgram_branch, lstm], axis=1)\n",
    "    elif model_type == 'RNN':\n",
    "        merged = Bidirectional(LSTM(64, activation='relu'))(embedded)\n",
    "        \n",
    "    hidden = Dense(32, activation='relu')(merged)\n",
    "    hidden = Dropout(dropout)(hidden)\n",
    "    output = Dense(1, activation='relu')(hidden)\n",
    "    model = Model(inputs=[tweet_input], outputs=[output])\n",
    "    model.summary()\n",
    "    return model\n",
    "\n",
    "model = buildModel(model_type='combined')\n",
    "model.compile(optimizer='rmsprop', loss='binary_crossentropy', metrics=['mae'])"
   ]
  },
  {
   "cell_type": "code",
   "execution_count": null,
   "metadata": {
    "scrolled": false
   },
   "outputs": [
    {
     "name": "stdout",
     "output_type": "stream",
     "text": [
      "Train on 54484 samples, validate on 13622 samples\n",
      "Epoch 1/5\n",
      "54484/54484 [==============================] - 38s 692us/step - loss: 0.7600 - mean_absolute_error: 0.1793 - val_loss: 0.6852 - val_mean_absolute_error: 0.1568\n",
      "Epoch 2/5\n",
      "11424/54484 [=====>........................] - ETA: 26s - loss: 0.6906 - mean_absolute_error: 0.1558"
     ]
    }
   ],
   "source": [
    "import tensorflowjs as tfjs\n",
    "history = model.fit(x_train, y_train, epochs=5, batch_size=32, validation_split=0.2)\n",
    "tfjs.converters.save_keras_model(model, os.path.join(MODEL_DIR, 'models/model.json'))\n",
    "model.save(os.path.join(MODEL_DIR, 'models/model.h5'))"
   ]
  },
  {
   "cell_type": "code",
   "execution_count": null,
   "metadata": {},
   "outputs": [],
   "source": [
    "# model.load_weights(os.path.join(MODEL_DIR, 'models/model.h5'))\n",
    "prediction = model.predict(x_test, batch_size=32)\n",
    "print('Mean absolute error:', np.mean(np.abs(prediction - y_test)))"
   ]
  },
  {
   "cell_type": "code",
   "execution_count": null,
   "metadata": {},
   "outputs": [],
   "source": [
    "test = ['stupid kavanaugh and brexit what is wrong with these brits', 'what about some positivity hereee']\n",
    "sequences = tokenizer.texts_to_sequences(test)\n",
    "data = pad_sequences(sequences, maxlen=MAX_SEQUENCE_LENGTH)\n",
    "prediction = model.predict(data)\n",
    "print(prediction)"
   ]
  },
  {
   "cell_type": "code",
   "execution_count": null,
   "metadata": {},
   "outputs": [],
   "source": []
  }
 ],
 "metadata": {
  "kernelspec": {
   "display_name": "Python (treehacks)",
   "language": "python",
   "name": "treehacks"
  },
  "language_info": {
   "codemirror_mode": {
    "name": "ipython",
    "version": 3
   },
   "file_extension": ".py",
   "mimetype": "text/x-python",
   "name": "python",
   "nbconvert_exporter": "python",
   "pygments_lexer": "ipython3",
   "version": "3.6.8"
  }
 },
 "nbformat": 4,
 "nbformat_minor": 2
}
